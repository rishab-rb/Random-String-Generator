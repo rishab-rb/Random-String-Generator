{
 "cells": [
  {
   "cell_type": "code",
   "execution_count": 1,
   "metadata": {},
   "outputs": [],
   "source": [
    "import random\n",
    "\n",
    "def Random_String_Generator(length):   \n",
    "    key = \"\" \n",
    "    \n",
    "    while len(key)!=length:\n",
    "        i = random.randint(1,255)\n",
    "        j = random.randint(1,255)\n",
    "        \n",
    "        s = (i*j)%128\n",
    "        \n",
    "        if s<33:\n",
    "            s = random.randint(33,128)\n",
    "        \n",
    "        key += str(chr(s))\n",
    "\n",
    "    print key"
   ]
  },
  {
   "cell_type": "code",
   "execution_count": 2,
   "metadata": {},
   "outputs": [
    {
     "name": "stdout",
     "output_type": "stream",
     "text": [
      "nt-h+8nfv\"\n"
     ]
    }
   ],
   "source": [
    "Random_String_Generator(10)"
   ]
  },
  {
   "cell_type": "code",
   "execution_count": 3,
   "metadata": {},
   "outputs": [
    {
     "name": "stdout",
     "output_type": "stream",
     "text": [
      "hW@\\lXCr^H\n"
     ]
    }
   ],
   "source": [
    "Random_String_Generator(10)"
   ]
  },
  {
   "cell_type": "code",
   "execution_count": 4,
   "metadata": {},
   "outputs": [
    {
     "name": "stdout",
     "output_type": "stream",
     "text": [
      "%WmfdeJ]gzD@|l.>\n"
     ]
    }
   ],
   "source": [
    "Random_String_Generator(16)"
   ]
  },
  {
   "cell_type": "code",
   "execution_count": 5,
   "metadata": {},
   "outputs": [
    {
     "name": "stdout",
     "output_type": "stream",
     "text": [
      "u{C`;W!RK4,~F~LX\n"
     ]
    }
   ],
   "source": [
    "Random_String_Generator(16)"
   ]
  },
  {
   "cell_type": "code",
   "execution_count": 6,
   "metadata": {},
   "outputs": [
    {
     "name": "stdout",
     "output_type": "stream",
     "text": [
      "XD&#>Ph8x&XdZvJgCD\\:pJbd\\2?Yw@\"@ZJ0(DD4|<~8}`'\"0Vx^v\\X9F{SpxdUH\\\n"
     ]
    }
   ],
   "source": [
    "Random_String_Generator(64)"
   ]
  },
  {
   "cell_type": "code",
   "execution_count": 7,
   "metadata": {},
   "outputs": [
    {
     "name": "stdout",
     "output_type": "stream",
     "text": [
      "t0P4$}Ypq4d^R(T8Q<:iL@Z[`ggY|df(:Ux/Pn:X~UE@gCm$>m8U@9&C|9lG0iC6{*]63`r*@|\\O/2Xbn`@i^8KmDXDUvnW_HeO\n"
     ]
    }
   ],
   "source": [
    "Random_String_Generator(100)"
   ]
  },
  {
   "cell_type": "code",
   "execution_count": 8,
   "metadata": {},
   "outputs": [
    {
     "name": "stdout",
     "output_type": "stream",
     "text": [
      "wfP<mfhfRuW*Lv3xh@`7yJ4$L~|vq#!Xxv0u(;NNAvX]/mXjP{j?wy-x5uk$&%Xh*gH(|<((|P~D@_XC#`[pas'_t~z@n(%@001p~JDf@0`@$@*,94GH;@.l{2#|OM>p\n"
     ]
    }
   ],
   "source": [
    "Random_String_Generator(128)"
   ]
  },
  {
   "cell_type": "code",
   "execution_count": 9,
   "metadata": {},
   "outputs": [
    {
     "name": "stdout",
     "output_type": "stream",
     "text": [
      "*s]H$0<wlxjAX8VLm.NRaD06p,p4wI6+bE,*xndB@DA0%tt%.YNa(TV8#n0\"xI23H,`q&=(ORUVP1f5P{v0B:e<3:hMj`^(@A`B/xL>ne#5U.x-sprz>P$Xk!0M!j>Z:dfdhy&jF%2T`K{T4X{Ad%83(hb$\"@VTrDWvX@j8NV':Gj*b(0p'?H@ibp@2>ep4jH`=Xbh':j/0z$Bjl$kx@J{KhD\\<U@[\\rI6(kl(LE84uIj*HA`L@Cvp0.kHZIbOm(\\nr:6%,H.p0�0m&O@;_/xzu4_@`@C*>8:\\C0f5PF,6N^cvvL:YLd0biH0'~s8:\"pR`~2~_[i&|8=@Lw`G0zTAT6R&9&~T$v>,`Z\\:`NZ;d,#tx0_fx?mH+`7;6OV|zmbfhH`c-~+NtDXv(SPpXJxZ1y&X(<1SxHH;7.HBJ@P\\o$@4v3j*{B4)r/0nLv$ub(_`&O\\0=2dhHPpL\\&clG`|Y@+(hlr?8O`p:o$4BOX)BMxD*h`%XX\n"
     ]
    }
   ],
   "source": [
    "Random_String_Generator(500)"
   ]
  },
  {
   "cell_type": "code",
   "execution_count": null,
   "metadata": {},
   "outputs": [],
   "source": []
  }
 ],
 "metadata": {
  "kernelspec": {
   "display_name": "Python 2",
   "language": "python",
   "name": "python2"
  },
  "language_info": {
   "codemirror_mode": {
    "name": "ipython",
    "version": 2
   },
   "file_extension": ".py",
   "mimetype": "text/x-python",
   "name": "python",
   "nbconvert_exporter": "python",
   "pygments_lexer": "ipython2",
   "version": "2.7.14"
  }
 },
 "nbformat": 4,
 "nbformat_minor": 2
}
